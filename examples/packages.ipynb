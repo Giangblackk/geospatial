{
 "cells": [
  {
   "cell_type": "markdown",
   "id": "c22e4bb9-e256-412f-b6b6-4d5e6f9be1b8",
   "metadata": {},
   "source": [
    "The list of packages installed by the geospatial package:"
   ]
  },
  {
   "cell_type": "code",
   "execution_count": null,
   "id": "8cf37c3b-3123-400f-97aa-b1a07fe613d3",
   "metadata": {},
   "outputs": [],
   "source": [
    "!conda list"
   ]
  }
 ],
 "metadata": {
  "kernelspec": {
   "display_name": "Python 3",
   "language": "python",
   "name": "python3"
  },
  "language_info": {
   "codemirror_mode": {
    "name": "ipython",
    "version": 3
   },
   "file_extension": ".py",
   "mimetype": "text/x-python",
   "name": "python",
   "nbconvert_exporter": "python",
   "pygments_lexer": "ipython3",
   "version": "3.9.10"
  }
 },
 "nbformat": 4,
 "nbformat_minor": 5
}
